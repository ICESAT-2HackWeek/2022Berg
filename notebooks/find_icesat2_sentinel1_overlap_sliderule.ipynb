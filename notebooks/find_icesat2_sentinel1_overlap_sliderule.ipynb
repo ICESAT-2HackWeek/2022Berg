{
 "cells": [
  {
   "cell_type": "code",
   "execution_count": 1,
   "id": "cf0c7dbf-5716-48ce-8507-1dd5a72bead4",
   "metadata": {},
   "outputs": [],
   "source": [
    "from sliderule import icesat2, ipysliderule, io\n",
    "import ipywidgets as widgets\n",
    "import logging\n",
    "import warnings\n",
    "# autoreload\n",
    "%load_ext autoreload\n",
    "%autoreload 2\n",
    "# turn off warnings for demo\n",
    "warnings.filterwarnings('ignore')"
   ]
  },
  {
   "cell_type": "code",
   "execution_count": 2,
   "id": "f5fc3d6c-d314-49ee-9809-c89be55f685b",
   "metadata": {},
   "outputs": [],
   "source": [
    "# set the url for the sliderule service\n",
    "# set the logging level\n",
    "icesat2.init(\"icesat2sliderule.org\", loglevel=logging.WARNING)"
   ]
  },
  {
   "cell_type": "code",
   "execution_count": 9,
   "id": "673a4997-2abb-4dfc-968b-c1a1e84ea886",
   "metadata": {},
   "outputs": [
    {
     "data": {
      "application/vnd.jupyter.widget-view+json": {
       "model_id": "97f0b6c2a7814f6bba77a353590fc0e2",
       "version_major": 2,
       "version_minor": 0
      },
      "text/plain": [
       "VBox(children=(Dropdown(description='Asset:', description_tooltip='Asset: Location for SlideRule to get the da…"
      ]
     },
     "metadata": {},
     "output_type": "display_data"
    }
   ],
   "source": [
    "# display widgets for setting SlideRule parameters\n",
    "SRwidgets = ipysliderule.widgets()\n",
    "widgets.VBox([\n",
    "    SRwidgets.asset,\n",
    "    SRwidgets.release,\n",
    "    #SRwidgets.classification,\n",
    "    SRwidgets.surface_type,\n",
    "    SRwidgets.confidence,\n",
    "    SRwidgets.quality,\n",
    "    SRwidgets.land_class,\n",
    "    SRwidgets.yapc_knn,\n",
    "    SRwidgets.yapc_win_h,\n",
    "    SRwidgets.yapc_win_x,\n",
    "    SRwidgets.yapc_min_ph,\n",
    "    SRwidgets.yapc_weight,\n",
    "    SRwidgets.length,\n",
    "    SRwidgets.step,\n",
    "    SRwidgets.iteration,\n",
    "    SRwidgets.spread,\n",
    "    SRwidgets.count,\n",
    "    SRwidgets.window,\n",
    "    SRwidgets.sigma,\n",
    "])"
   ]
  },
  {
   "cell_type": "code",
   "execution_count": 10,
   "id": "8032c45b-5a34-4f06-b2be-a569092d86fd",
   "metadata": {},
   "outputs": [
    {
     "data": {
      "application/vnd.jupyter.widget-view+json": {
       "model_id": "ba88ae90fbbb493e895b6ba107a42d3b",
       "version_major": 2,
       "version_minor": 0
      },
      "text/plain": [
       "VBox(children=(Dropdown(description='Projection:', description_tooltip='Projection: leaflet map projection\\n\\t…"
      ]
     },
     "metadata": {},
     "output_type": "display_data"
    }
   ],
   "source": [
    "widgets.VBox([\n",
    "    SRwidgets.projection,\n",
    "    SRwidgets.layers\n",
    "])"
   ]
  },
  {
   "cell_type": "code",
   "execution_count": 13,
   "id": "77059943-d9b5-4795-a0c5-00afdb967c73",
   "metadata": {},
   "outputs": [
    {
     "data": {
      "application/vnd.jupyter.widget-view+json": {
       "model_id": "948929c0cd70446880cfa97bd8b8b1cb",
       "version_major": 2,
       "version_minor": 0
      },
      "text/plain": [
       "Map(center=[39, -108], controls=(ZoomControl(options=['position', 'zoom_in_text', 'zoom_in_title', 'zoom_out_t…"
      ]
     },
     "metadata": {},
     "output_type": "display_data"
    }
   ],
   "source": [
    "# create ipyleaflet map in specified projection\n",
    "m = ipysliderule.leaflet(SRwidgets.projection.value)\n",
    "# install click handler callback\n",
    "#m.add_selected_callback(SRwidgets.click_handler)\n",
    "m.map"
   ]
  },
  {
   "cell_type": "code",
   "execution_count": 14,
   "id": "9050a31c-d0c1-4750-90e7-b3e5cdd9e1eb",
   "metadata": {},
   "outputs": [],
   "source": [
    "m.add_layer(layers=SRwidgets.layers.value)"
   ]
  },
  {
   "cell_type": "code",
   "execution_count": 15,
   "id": "96359ded-21c8-4d7f-91a0-15194910bbc7",
   "metadata": {},
   "outputs": [
    {
     "ename": "AttributeError",
     "evalue": "'widgets' object has no attribute 'build'",
     "output_type": "error",
     "traceback": [
      "\u001b[0;31m---------------------------------------------------------------------------\u001b[0m",
      "\u001b[0;31mAttributeError\u001b[0m                            Traceback (most recent call last)",
      "File \u001b[0;32m<timed exec>:5\u001b[0m, in \u001b[0;36m<module>\u001b[0;34m\u001b[0m\n",
      "\u001b[0;31mAttributeError\u001b[0m: 'widgets' object has no attribute 'build'"
     ]
    }
   ],
   "source": [
    "%%time\n",
    "# sliderule asset and data release\n",
    "asset = SRwidgets.asset.value\n",
    "release = SRwidgets.release.value\n",
    "# build sliderule parameters using latest values from widget\n",
    "parms = SRwidgets.build()\n",
    "\n",
    "# create an empty geodataframe\n",
    "gdf = icesat2.__emptyframe()\n",
    "\n",
    "# for each region of interest\n",
    "for poly in m.regions:\n",
    "    # add polygon from map to sliderule parameters\n",
    "    parms[\"poly\"] = poly \n",
    "    # make the request to the SlideRule (ATL06-SR) endpoint\n",
    "    # and pass it the request parameters to request ATL06 Data\n",
    "    gdf = gdf.append(icesat2.atl06p(parms, asset, version=release))"
   ]
  },
  {
   "cell_type": "code",
   "execution_count": null,
   "id": "dc572a49-8a4a-40a1-a333-54ad788366d9",
   "metadata": {},
   "outputs": [],
   "source": [
    "print(f'Returned {gdf.shape[0]} records')\n",
    "gdf.head()"
   ]
  },
  {
   "cell_type": "code",
   "execution_count": null,
   "id": "087ce79e-a287-4074-a35d-efd51f011cae",
   "metadata": {},
   "outputs": [],
   "source": [
    "widgets.VBox([\n",
    "    SRwidgets.variable,\n",
    "    SRwidgets.cmap,\n",
    "    SRwidgets.reverse,\n",
    "])"
   ]
  },
  {
   "cell_type": "code",
   "execution_count": null,
   "id": "df325357-9e80-471b-bb4a-93fa47524805",
   "metadata": {},
   "outputs": [],
   "source": [
    "%matplotlib inline\n",
    "m.GeoData(gdf, column_name=SRwidgets.variable.value, cmap=SRwidgets.colormap)"
   ]
  },
  {
   "cell_type": "code",
   "execution_count": null,
   "id": "ead0f9d9-e4f9-4bbe-bbaf-57c3959e2c94",
   "metadata": {},
   "outputs": [],
   "source": [
    "m.remove_layer(layers=m.layers)"
   ]
  },
  {
   "cell_type": "code",
   "execution_count": null,
   "id": "32feec99-f630-45a1-a72c-1737986f1a9a",
   "metadata": {},
   "outputs": [],
   "source": [
    "widgets.VBox([\n",
    "    SRwidgets.plot_kind,\n",
    "    SRwidgets.rgt,\n",
    "    SRwidgets.ground_track,\n",
    "    SRwidgets.cycle,\n",
    "])\n"
   ]
  },
  {
   "cell_type": "code",
   "execution_count": null,
   "id": "535e4e5c-e34b-4655-afb4-ac00237623a3",
   "metadata": {},
   "outputs": [],
   "source": [
    "%matplotlib widget\n",
    "# default is to skip cycles with significant off-pointing\n",
    "SRwidgets.plot(gdf, kind=SRwidgets.plot_kind.value, cycle_start=3, legend=True)"
   ]
  }
 ],
 "metadata": {
  "kernelspec": {
   "display_name": "Python 3 (ipykernel)",
   "language": "python",
   "name": "python3"
  },
  "language_info": {
   "codemirror_mode": {
    "name": "ipython",
    "version": 3
   },
   "file_extension": ".py",
   "mimetype": "text/x-python",
   "name": "python",
   "nbconvert_exporter": "python",
   "pygments_lexer": "ipython3",
   "version": "3.9.10"
  }
 },
 "nbformat": 4,
 "nbformat_minor": 5
}
